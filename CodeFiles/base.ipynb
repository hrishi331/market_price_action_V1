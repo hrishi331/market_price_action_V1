{
 "cells": [
  {
   "cell_type": "code",
   "execution_count": 37,
   "id": "8b252a6e",
   "metadata": {},
   "outputs": [],
   "source": [
    "# Import packages\n",
    "import pandas as pd\n",
    "import matplotlib.pyplot as plt\n",
    "import seaborn as sns\n",
    "import numpy as np\n",
    "import nsepython as nse\n",
    "import datetime \n",
    "import time\n",
    "from sklearn.model_selection import train_test_split\n",
    "from xgboost import XGBRegressor\n",
    "from sklearn.metrics import root_mean_squared_error\n",
    "\n"
   ]
  },
  {
   "cell_type": "code",
   "execution_count": 38,
   "id": "2e5a6ed5",
   "metadata": {},
   "outputs": [
    {
     "name": "stdout",
     "output_type": "stream",
     "text": [
      "2025-08-06 12:57:19.139313  : Index and equity symbols extracted!\n"
     ]
    }
   ],
   "source": [
    "# Index and eq list\n",
    "index_list = nse.nse_get_index_list()\n",
    "eq_list = nse.nse_eq_symbols()\n",
    "print(datetime.datetime.now(),' : Index and equity symbols extracted!')\n"
   ]
  },
  {
   "cell_type": "code",
   "execution_count": 39,
   "id": "6169b29f",
   "metadata": {},
   "outputs": [
    {
     "name": "stdout",
     "output_type": "stream",
     "text": [
      "2025-08-06 12:57:19.144554  : Date inputs taken!\n"
     ]
    }
   ],
   "source": [
    "# Inputs\n",
    "# Date input\n",
    "from_date = datetime.date(year=2015,month=1,day=1).strftime('%Y/%m/%d')\n",
    "to_date = datetime.date(year=2025,month=8,day=6).strftime('%Y/%m/%d')\n",
    "print(datetime.datetime.now(),' : Date inputs taken!')\n"
   ]
  },
  {
   "cell_type": "code",
   "execution_count": null,
   "id": "6e615941",
   "metadata": {},
   "outputs": [],
   "source": [
    "# Load data\n",
    "df = nse.index_history(symbol='NIFTY 50',start_date=from_date,end_date=to_date)\n",
    "df = df[['HistoricalDate','OPEN','HIGH','LOW','CLOSE']]\n",
    "print(datetime.datetime.now(),' : Data loaded!')\n",
    "\n",
    "df = df.rename({'HistoricalDate':'Date'},axis=1)\n",
    "print(datetime.datetime.now(),' : Column renamed!')\n"
   ]
  },
  {
   "cell_type": "code",
   "execution_count": null,
   "id": "9e732a28",
   "metadata": {},
   "outputs": [],
   "source": [
    "# Change column datatype\n",
    "df['Date'] = df['Date'].astype('date32[pyarrow]') # convert column to datetime format\n",
    "print(datetime.datetime.now(),' : Column datatype modfied!')\n"
   ]
  },
  {
   "cell_type": "code",
   "execution_count": null,
   "id": "b6b45043",
   "metadata": {},
   "outputs": [],
   "source": [
    "# Additional feature generation \n",
    "for k in [5,30]:\n",
    "    for j in ['OPEN','HIGH','LOW','CLOSE']:\n",
    "        minl = []\n",
    "        maxl = []\n",
    "        for i in range(df.shape[0]):\n",
    "            minimum = df[j].iloc[i:i+k].min()\n",
    "            maximum = df[j].iloc[i:i+k].max()\n",
    "            minl.append(minimum)\n",
    "            maxl.append(maximum)\n",
    "        df[f'{j}_{k}daylow'] = minl\n",
    "        df[f'{j}_{k}dayhigh'] = maxl\n",
    "print(datetime.datetime.now(),' : Additional features generated!')"
   ]
  },
  {
   "cell_type": "code",
   "execution_count": null,
   "id": "f1805eb8",
   "metadata": {},
   "outputs": [],
   "source": [
    "# Date feature dropped\n",
    "df = df.drop('Date',axis=1)\n",
    "print(datetime.datetime.now(),' : date feature dropped!')  \n"
   ]
  },
  {
   "cell_type": "code",
   "execution_count": null,
   "id": "059e213e",
   "metadata": {},
   "outputs": [],
   "source": [
    "# train test data generation\n",
    "X_train,X_test,y_train,y_test = train_test_split(df.drop('CLOSE',axis=1),df['CLOSE'],\n",
    "                                                 test_size=0.2,random_state=11)\n",
    "print(datetime.datetime.now(),' : Train/test data generated!')  \n"
   ]
  },
  {
   "cell_type": "code",
   "execution_count": null,
   "id": "93a42d85",
   "metadata": {},
   "outputs": [],
   "source": [
    "# Modeling\n",
    "model = XGBRegressor()\n",
    "print(datetime.datetime.now(),' : XGBoost model intialised!')  \n",
    "\n",
    "model.fit(X_train,y_train)\n",
    "print(datetime.datetime.now(),' : Model fitted on train data!')  \n",
    "\n",
    "y_pred = model.predict(X_test)\n",
    "print(datetime.datetime.now(),' : Predictions done for test data!') \n",
    "\n",
    "rmse = root_mean_squared_error(y_test,y_pred)\n",
    "print(datetime.datetime.now(),' : RMSE performance metric calculated!') \n",
    "\n",
    "pred_table = pd.DataFrame([y_test,y_pred],columns=['Actual','Predicted'])\n",
    "print(datetime.datetime.now(),' : Prediction table generated!') \n",
    "\n",
    "pred_table['Avg_error'] = round((pred_table['Actual'] - pred_table['Predicted'])/pred_table['Actual'],2)\n",
    "print(datetime.datetime.now(),' : AVG error added to final prediction table!') \n",
    "\n",
    "\n",
    "print(pred_table['Avg_error'].mean())"
   ]
  }
 ],
 "metadata": {
  "kernelspec": {
   "display_name": "venv (3.12.3)",
   "language": "python",
   "name": "python3"
  },
  "language_info": {
   "codemirror_mode": {
    "name": "ipython",
    "version": 3
   },
   "file_extension": ".py",
   "mimetype": "text/x-python",
   "name": "python",
   "nbconvert_exporter": "python",
   "pygments_lexer": "ipython3",
   "version": "3.12.3"
  }
 },
 "nbformat": 4,
 "nbformat_minor": 5
}
