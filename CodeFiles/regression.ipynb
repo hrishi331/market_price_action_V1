{
 "cells": [
  {
   "cell_type": "code",
   "execution_count": 176,
   "id": "8b252a6e",
   "metadata": {},
   "outputs": [],
   "source": [
    "# Import packages\n",
    "import pandas as pd\n",
    "import matplotlib.pyplot as plt\n",
    "import seaborn as sns\n",
    "import numpy as np\n",
    "import yfinance as yf\n",
    "import nsepython as nse\n",
    "import datetime \n",
    "import time\n",
    "from sklearn.model_selection import train_test_split\n",
    "from xgboost import XGBRegressor\n",
    "from sklearn.metrics import root_mean_squared_error,mean_absolute_error\n",
    "\n"
   ]
  },
  {
   "cell_type": "code",
   "execution_count": 177,
   "id": "6169b29f",
   "metadata": {},
   "outputs": [
    {
     "name": "stdout",
     "output_type": "stream",
     "text": [
      "2025-08-08 11:49:00.876210  : Date inputs taken!\n",
      "2014-01-01\n"
     ]
    }
   ],
   "source": [
    "# Inputs\n",
    "# Date input\n",
    "prediction_date = datetime.date(year=2025, month=8, day=8)\n",
    "from_date = datetime.date(year=2014,month=1,day=1).strftime(\"%Y-%m-%d\")\n",
    "to_date = (prediction_date+datetime.timedelta(days=1)).strftime(\"%Y-%m-%d\")\n",
    "print(datetime.datetime.now(),' : Date inputs taken!')\n",
    "\n",
    "print(from_date)"
   ]
  },
  {
   "cell_type": "code",
   "execution_count": 178,
   "id": "eeb045a2",
   "metadata": {},
   "outputs": [
    {
     "name": "stderr",
     "output_type": "stream",
     "text": [
      "/tmp/ipykernel_20724/4025041859.py:1: FutureWarning: YF.download() has changed argument auto_adjust default to True\n",
      "  df = yf.download('^NSEI',start=from_date,end=to_date)\n",
      "[*********************100%***********************]  1 of 1 completed"
     ]
    },
    {
     "name": "stdout",
     "output_type": "stream",
     "text": [
      "2025-08-08 11:49:02.277342  : Data downloaded!\n"
     ]
    },
    {
     "name": "stderr",
     "output_type": "stream",
     "text": [
      "\n"
     ]
    }
   ],
   "source": [
    "df = yf.download('^NSEI',start=from_date,end=to_date)\n",
    "print(datetime.datetime.now(),' : Data downloaded!')\n"
   ]
  },
  {
   "cell_type": "code",
   "execution_count": 179,
   "id": "d7782f80",
   "metadata": {},
   "outputs": [
    {
     "name": "stdout",
     "output_type": "stream",
     "text": [
      "2025-08-08 11:49:02.282557  : Columns renamed and fetures selecetd\n"
     ]
    }
   ],
   "source": [
    "# Column renaming and feature selectio8n\n",
    "df.columns = ['Close','High','Low','Open','Volume']\n",
    "df.drop('Volume',axis=1,inplace=True)\n",
    "print(datetime.datetime.now(),' : Columns renamed and fetures selecetd') "
   ]
  },
  {
   "cell_type": "code",
   "execution_count": 180,
   "id": "f3935c7b",
   "metadata": {},
   "outputs": [
    {
     "name": "stdout",
     "output_type": "stream",
     "text": [
      "2025-08-08 11:49:02.290702  : Additional fetures generated!\n"
     ]
    }
   ],
   "source": [
    "# Additional features generation\n",
    "df['Date'] = df.index\n",
    "df['Weekday'] = df['Date'].dt.weekday+1\n",
    "df['Month'] = df['Date'].dt.month\n",
    "df['Week_in_year'] = df['Date'].dt.isocalendar().week\n",
    "df.drop('Date',axis=1,inplace=True)\n",
    "print(datetime.datetime.now(),' : Additional fetures generated!')"
   ]
  },
  {
   "cell_type": "code",
   "execution_count": 181,
   "id": "b2288c0c",
   "metadata": {},
   "outputs": [
    {
     "name": "stdout",
     "output_type": "stream",
     "text": [
      "2025-08-08 11:49:02.345540  : Features generated and cleaned!\n"
     ]
    },
    {
     "name": "stderr",
     "output_type": "stream",
     "text": [
      "/tmp/ipykernel_20724/3618790735.py:18: PerformanceWarning: DataFrame is highly fragmented.  This is usually the result of calling `frame.insert` many times, which has poor performance.  Consider joining all columns at once using pd.concat(axis=1) instead. To get a de-fragmented frame, use `newframe = frame.copy()`\n",
      "  df[f'rm{i}_{j}'] = df[j].rolling(i).mean()\n",
      "/tmp/ipykernel_20724/3618790735.py:19: PerformanceWarning: DataFrame is highly fragmented.  This is usually the result of calling `frame.insert` many times, which has poor performance.  Consider joining all columns at once using pd.concat(axis=1) instead. To get a de-fragmented frame, use `newframe = frame.copy()`\n",
      "  df[f'rstd{i}_{j}'] = df[j].rolling(i).std()\n",
      "/tmp/ipykernel_20724/3618790735.py:18: PerformanceWarning: DataFrame is highly fragmented.  This is usually the result of calling `frame.insert` many times, which has poor performance.  Consider joining all columns at once using pd.concat(axis=1) instead. To get a de-fragmented frame, use `newframe = frame.copy()`\n",
      "  df[f'rm{i}_{j}'] = df[j].rolling(i).mean()\n",
      "/tmp/ipykernel_20724/3618790735.py:19: PerformanceWarning: DataFrame is highly fragmented.  This is usually the result of calling `frame.insert` many times, which has poor performance.  Consider joining all columns at once using pd.concat(axis=1) instead. To get a de-fragmented frame, use `newframe = frame.copy()`\n",
      "  df[f'rstd{i}_{j}'] = df[j].rolling(i).std()\n",
      "/tmp/ipykernel_20724/3618790735.py:18: PerformanceWarning: DataFrame is highly fragmented.  This is usually the result of calling `frame.insert` many times, which has poor performance.  Consider joining all columns at once using pd.concat(axis=1) instead. To get a de-fragmented frame, use `newframe = frame.copy()`\n",
      "  df[f'rm{i}_{j}'] = df[j].rolling(i).mean()\n",
      "/tmp/ipykernel_20724/3618790735.py:19: PerformanceWarning: DataFrame is highly fragmented.  This is usually the result of calling `frame.insert` many times, which has poor performance.  Consider joining all columns at once using pd.concat(axis=1) instead. To get a de-fragmented frame, use `newframe = frame.copy()`\n",
      "  df[f'rstd{i}_{j}'] = df[j].rolling(i).std()\n",
      "/tmp/ipykernel_20724/3618790735.py:18: PerformanceWarning: DataFrame is highly fragmented.  This is usually the result of calling `frame.insert` many times, which has poor performance.  Consider joining all columns at once using pd.concat(axis=1) instead. To get a de-fragmented frame, use `newframe = frame.copy()`\n",
      "  df[f'rm{i}_{j}'] = df[j].rolling(i).mean()\n",
      "/tmp/ipykernel_20724/3618790735.py:19: PerformanceWarning: DataFrame is highly fragmented.  This is usually the result of calling `frame.insert` many times, which has poor performance.  Consider joining all columns at once using pd.concat(axis=1) instead. To get a de-fragmented frame, use `newframe = frame.copy()`\n",
      "  df[f'rstd{i}_{j}'] = df[j].rolling(i).std()\n",
      "/tmp/ipykernel_20724/3618790735.py:18: PerformanceWarning: DataFrame is highly fragmented.  This is usually the result of calling `frame.insert` many times, which has poor performance.  Consider joining all columns at once using pd.concat(axis=1) instead. To get a de-fragmented frame, use `newframe = frame.copy()`\n",
      "  df[f'rm{i}_{j}'] = df[j].rolling(i).mean()\n",
      "/tmp/ipykernel_20724/3618790735.py:19: PerformanceWarning: DataFrame is highly fragmented.  This is usually the result of calling `frame.insert` many times, which has poor performance.  Consider joining all columns at once using pd.concat(axis=1) instead. To get a de-fragmented frame, use `newframe = frame.copy()`\n",
      "  df[f'rstd{i}_{j}'] = df[j].rolling(i).std()\n",
      "/tmp/ipykernel_20724/3618790735.py:18: PerformanceWarning: DataFrame is highly fragmented.  This is usually the result of calling `frame.insert` many times, which has poor performance.  Consider joining all columns at once using pd.concat(axis=1) instead. To get a de-fragmented frame, use `newframe = frame.copy()`\n",
      "  df[f'rm{i}_{j}'] = df[j].rolling(i).mean()\n",
      "/tmp/ipykernel_20724/3618790735.py:19: PerformanceWarning: DataFrame is highly fragmented.  This is usually the result of calling `frame.insert` many times, which has poor performance.  Consider joining all columns at once using pd.concat(axis=1) instead. To get a de-fragmented frame, use `newframe = frame.copy()`\n",
      "  df[f'rstd{i}_{j}'] = df[j].rolling(i).std()\n",
      "/tmp/ipykernel_20724/3618790735.py:18: PerformanceWarning: DataFrame is highly fragmented.  This is usually the result of calling `frame.insert` many times, which has poor performance.  Consider joining all columns at once using pd.concat(axis=1) instead. To get a de-fragmented frame, use `newframe = frame.copy()`\n",
      "  df[f'rm{i}_{j}'] = df[j].rolling(i).mean()\n",
      "/tmp/ipykernel_20724/3618790735.py:19: PerformanceWarning: DataFrame is highly fragmented.  This is usually the result of calling `frame.insert` many times, which has poor performance.  Consider joining all columns at once using pd.concat(axis=1) instead. To get a de-fragmented frame, use `newframe = frame.copy()`\n",
      "  df[f'rstd{i}_{j}'] = df[j].rolling(i).std()\n",
      "/tmp/ipykernel_20724/3618790735.py:18: PerformanceWarning: DataFrame is highly fragmented.  This is usually the result of calling `frame.insert` many times, which has poor performance.  Consider joining all columns at once using pd.concat(axis=1) instead. To get a de-fragmented frame, use `newframe = frame.copy()`\n",
      "  df[f'rm{i}_{j}'] = df[j].rolling(i).mean()\n",
      "/tmp/ipykernel_20724/3618790735.py:19: PerformanceWarning: DataFrame is highly fragmented.  This is usually the result of calling `frame.insert` many times, which has poor performance.  Consider joining all columns at once using pd.concat(axis=1) instead. To get a de-fragmented frame, use `newframe = frame.copy()`\n",
      "  df[f'rstd{i}_{j}'] = df[j].rolling(i).std()\n",
      "/tmp/ipykernel_20724/3618790735.py:18: PerformanceWarning: DataFrame is highly fragmented.  This is usually the result of calling `frame.insert` many times, which has poor performance.  Consider joining all columns at once using pd.concat(axis=1) instead. To get a de-fragmented frame, use `newframe = frame.copy()`\n",
      "  df[f'rm{i}_{j}'] = df[j].rolling(i).mean()\n",
      "/tmp/ipykernel_20724/3618790735.py:19: PerformanceWarning: DataFrame is highly fragmented.  This is usually the result of calling `frame.insert` many times, which has poor performance.  Consider joining all columns at once using pd.concat(axis=1) instead. To get a de-fragmented frame, use `newframe = frame.copy()`\n",
      "  df[f'rstd{i}_{j}'] = df[j].rolling(i).std()\n",
      "/tmp/ipykernel_20724/3618790735.py:18: PerformanceWarning: DataFrame is highly fragmented.  This is usually the result of calling `frame.insert` many times, which has poor performance.  Consider joining all columns at once using pd.concat(axis=1) instead. To get a de-fragmented frame, use `newframe = frame.copy()`\n",
      "  df[f'rm{i}_{j}'] = df[j].rolling(i).mean()\n",
      "/tmp/ipykernel_20724/3618790735.py:19: PerformanceWarning: DataFrame is highly fragmented.  This is usually the result of calling `frame.insert` many times, which has poor performance.  Consider joining all columns at once using pd.concat(axis=1) instead. To get a de-fragmented frame, use `newframe = frame.copy()`\n",
      "  df[f'rstd{i}_{j}'] = df[j].rolling(i).std()\n",
      "/tmp/ipykernel_20724/3618790735.py:18: PerformanceWarning: DataFrame is highly fragmented.  This is usually the result of calling `frame.insert` many times, which has poor performance.  Consider joining all columns at once using pd.concat(axis=1) instead. To get a de-fragmented frame, use `newframe = frame.copy()`\n",
      "  df[f'rm{i}_{j}'] = df[j].rolling(i).mean()\n",
      "/tmp/ipykernel_20724/3618790735.py:19: PerformanceWarning: DataFrame is highly fragmented.  This is usually the result of calling `frame.insert` many times, which has poor performance.  Consider joining all columns at once using pd.concat(axis=1) instead. To get a de-fragmented frame, use `newframe = frame.copy()`\n",
      "  df[f'rstd{i}_{j}'] = df[j].rolling(i).std()\n",
      "/tmp/ipykernel_20724/3618790735.py:18: PerformanceWarning: DataFrame is highly fragmented.  This is usually the result of calling `frame.insert` many times, which has poor performance.  Consider joining all columns at once using pd.concat(axis=1) instead. To get a de-fragmented frame, use `newframe = frame.copy()`\n",
      "  df[f'rm{i}_{j}'] = df[j].rolling(i).mean()\n",
      "/tmp/ipykernel_20724/3618790735.py:19: PerformanceWarning: DataFrame is highly fragmented.  This is usually the result of calling `frame.insert` many times, which has poor performance.  Consider joining all columns at once using pd.concat(axis=1) instead. To get a de-fragmented frame, use `newframe = frame.copy()`\n",
      "  df[f'rstd{i}_{j}'] = df[j].rolling(i).std()\n",
      "/tmp/ipykernel_20724/3618790735.py:18: PerformanceWarning: DataFrame is highly fragmented.  This is usually the result of calling `frame.insert` many times, which has poor performance.  Consider joining all columns at once using pd.concat(axis=1) instead. To get a de-fragmented frame, use `newframe = frame.copy()`\n",
      "  df[f'rm{i}_{j}'] = df[j].rolling(i).mean()\n",
      "/tmp/ipykernel_20724/3618790735.py:19: PerformanceWarning: DataFrame is highly fragmented.  This is usually the result of calling `frame.insert` many times, which has poor performance.  Consider joining all columns at once using pd.concat(axis=1) instead. To get a de-fragmented frame, use `newframe = frame.copy()`\n",
      "  df[f'rstd{i}_{j}'] = df[j].rolling(i).std()\n",
      "/tmp/ipykernel_20724/3618790735.py:18: PerformanceWarning: DataFrame is highly fragmented.  This is usually the result of calling `frame.insert` many times, which has poor performance.  Consider joining all columns at once using pd.concat(axis=1) instead. To get a de-fragmented frame, use `newframe = frame.copy()`\n",
      "  df[f'rm{i}_{j}'] = df[j].rolling(i).mean()\n",
      "/tmp/ipykernel_20724/3618790735.py:19: PerformanceWarning: DataFrame is highly fragmented.  This is usually the result of calling `frame.insert` many times, which has poor performance.  Consider joining all columns at once using pd.concat(axis=1) instead. To get a de-fragmented frame, use `newframe = frame.copy()`\n",
      "  df[f'rstd{i}_{j}'] = df[j].rolling(i).std()\n",
      "/tmp/ipykernel_20724/3618790735.py:18: PerformanceWarning: DataFrame is highly fragmented.  This is usually the result of calling `frame.insert` many times, which has poor performance.  Consider joining all columns at once using pd.concat(axis=1) instead. To get a de-fragmented frame, use `newframe = frame.copy()`\n",
      "  df[f'rm{i}_{j}'] = df[j].rolling(i).mean()\n",
      "/tmp/ipykernel_20724/3618790735.py:19: PerformanceWarning: DataFrame is highly fragmented.  This is usually the result of calling `frame.insert` many times, which has poor performance.  Consider joining all columns at once using pd.concat(axis=1) instead. To get a de-fragmented frame, use `newframe = frame.copy()`\n",
      "  df[f'rstd{i}_{j}'] = df[j].rolling(i).std()\n",
      "/tmp/ipykernel_20724/3618790735.py:18: PerformanceWarning: DataFrame is highly fragmented.  This is usually the result of calling `frame.insert` many times, which has poor performance.  Consider joining all columns at once using pd.concat(axis=1) instead. To get a de-fragmented frame, use `newframe = frame.copy()`\n",
      "  df[f'rm{i}_{j}'] = df[j].rolling(i).mean()\n",
      "/tmp/ipykernel_20724/3618790735.py:19: PerformanceWarning: DataFrame is highly fragmented.  This is usually the result of calling `frame.insert` many times, which has poor performance.  Consider joining all columns at once using pd.concat(axis=1) instead. To get a de-fragmented frame, use `newframe = frame.copy()`\n",
      "  df[f'rstd{i}_{j}'] = df[j].rolling(i).std()\n",
      "/tmp/ipykernel_20724/3618790735.py:18: PerformanceWarning: DataFrame is highly fragmented.  This is usually the result of calling `frame.insert` many times, which has poor performance.  Consider joining all columns at once using pd.concat(axis=1) instead. To get a de-fragmented frame, use `newframe = frame.copy()`\n",
      "  df[f'rm{i}_{j}'] = df[j].rolling(i).mean()\n",
      "/tmp/ipykernel_20724/3618790735.py:19: PerformanceWarning: DataFrame is highly fragmented.  This is usually the result of calling `frame.insert` many times, which has poor performance.  Consider joining all columns at once using pd.concat(axis=1) instead. To get a de-fragmented frame, use `newframe = frame.copy()`\n",
      "  df[f'rstd{i}_{j}'] = df[j].rolling(i).std()\n",
      "/tmp/ipykernel_20724/3618790735.py:18: PerformanceWarning: DataFrame is highly fragmented.  This is usually the result of calling `frame.insert` many times, which has poor performance.  Consider joining all columns at once using pd.concat(axis=1) instead. To get a de-fragmented frame, use `newframe = frame.copy()`\n",
      "  df[f'rm{i}_{j}'] = df[j].rolling(i).mean()\n",
      "/tmp/ipykernel_20724/3618790735.py:19: PerformanceWarning: DataFrame is highly fragmented.  This is usually the result of calling `frame.insert` many times, which has poor performance.  Consider joining all columns at once using pd.concat(axis=1) instead. To get a de-fragmented frame, use `newframe = frame.copy()`\n",
      "  df[f'rstd{i}_{j}'] = df[j].rolling(i).std()\n",
      "/tmp/ipykernel_20724/3618790735.py:18: PerformanceWarning: DataFrame is highly fragmented.  This is usually the result of calling `frame.insert` many times, which has poor performance.  Consider joining all columns at once using pd.concat(axis=1) instead. To get a de-fragmented frame, use `newframe = frame.copy()`\n",
      "  df[f'rm{i}_{j}'] = df[j].rolling(i).mean()\n",
      "/tmp/ipykernel_20724/3618790735.py:19: PerformanceWarning: DataFrame is highly fragmented.  This is usually the result of calling `frame.insert` many times, which has poor performance.  Consider joining all columns at once using pd.concat(axis=1) instead. To get a de-fragmented frame, use `newframe = frame.copy()`\n",
      "  df[f'rstd{i}_{j}'] = df[j].rolling(i).std()\n",
      "/tmp/ipykernel_20724/3618790735.py:18: PerformanceWarning: DataFrame is highly fragmented.  This is usually the result of calling `frame.insert` many times, which has poor performance.  Consider joining all columns at once using pd.concat(axis=1) instead. To get a de-fragmented frame, use `newframe = frame.copy()`\n",
      "  df[f'rm{i}_{j}'] = df[j].rolling(i).mean()\n",
      "/tmp/ipykernel_20724/3618790735.py:19: PerformanceWarning: DataFrame is highly fragmented.  This is usually the result of calling `frame.insert` many times, which has poor performance.  Consider joining all columns at once using pd.concat(axis=1) instead. To get a de-fragmented frame, use `newframe = frame.copy()`\n",
      "  df[f'rstd{i}_{j}'] = df[j].rolling(i).std()\n",
      "/tmp/ipykernel_20724/3618790735.py:18: PerformanceWarning: DataFrame is highly fragmented.  This is usually the result of calling `frame.insert` many times, which has poor performance.  Consider joining all columns at once using pd.concat(axis=1) instead. To get a de-fragmented frame, use `newframe = frame.copy()`\n",
      "  df[f'rm{i}_{j}'] = df[j].rolling(i).mean()\n",
      "/tmp/ipykernel_20724/3618790735.py:19: PerformanceWarning: DataFrame is highly fragmented.  This is usually the result of calling `frame.insert` many times, which has poor performance.  Consider joining all columns at once using pd.concat(axis=1) instead. To get a de-fragmented frame, use `newframe = frame.copy()`\n",
      "  df[f'rstd{i}_{j}'] = df[j].rolling(i).std()\n",
      "/tmp/ipykernel_20724/3618790735.py:18: PerformanceWarning: DataFrame is highly fragmented.  This is usually the result of calling `frame.insert` many times, which has poor performance.  Consider joining all columns at once using pd.concat(axis=1) instead. To get a de-fragmented frame, use `newframe = frame.copy()`\n",
      "  df[f'rm{i}_{j}'] = df[j].rolling(i).mean()\n",
      "/tmp/ipykernel_20724/3618790735.py:19: PerformanceWarning: DataFrame is highly fragmented.  This is usually the result of calling `frame.insert` many times, which has poor performance.  Consider joining all columns at once using pd.concat(axis=1) instead. To get a de-fragmented frame, use `newframe = frame.copy()`\n",
      "  df[f'rstd{i}_{j}'] = df[j].rolling(i).std()\n",
      "/tmp/ipykernel_20724/3618790735.py:18: PerformanceWarning: DataFrame is highly fragmented.  This is usually the result of calling `frame.insert` many times, which has poor performance.  Consider joining all columns at once using pd.concat(axis=1) instead. To get a de-fragmented frame, use `newframe = frame.copy()`\n",
      "  df[f'rm{i}_{j}'] = df[j].rolling(i).mean()\n",
      "/tmp/ipykernel_20724/3618790735.py:19: PerformanceWarning: DataFrame is highly fragmented.  This is usually the result of calling `frame.insert` many times, which has poor performance.  Consider joining all columns at once using pd.concat(axis=1) instead. To get a de-fragmented frame, use `newframe = frame.copy()`\n",
      "  df[f'rstd{i}_{j}'] = df[j].rolling(i).std()\n",
      "/tmp/ipykernel_20724/3618790735.py:18: PerformanceWarning: DataFrame is highly fragmented.  This is usually the result of calling `frame.insert` many times, which has poor performance.  Consider joining all columns at once using pd.concat(axis=1) instead. To get a de-fragmented frame, use `newframe = frame.copy()`\n",
      "  df[f'rm{i}_{j}'] = df[j].rolling(i).mean()\n",
      "/tmp/ipykernel_20724/3618790735.py:19: PerformanceWarning: DataFrame is highly fragmented.  This is usually the result of calling `frame.insert` many times, which has poor performance.  Consider joining all columns at once using pd.concat(axis=1) instead. To get a de-fragmented frame, use `newframe = frame.copy()`\n",
      "  df[f'rstd{i}_{j}'] = df[j].rolling(i).std()\n",
      "/tmp/ipykernel_20724/3618790735.py:18: PerformanceWarning: DataFrame is highly fragmented.  This is usually the result of calling `frame.insert` many times, which has poor performance.  Consider joining all columns at once using pd.concat(axis=1) instead. To get a de-fragmented frame, use `newframe = frame.copy()`\n",
      "  df[f'rm{i}_{j}'] = df[j].rolling(i).mean()\n",
      "/tmp/ipykernel_20724/3618790735.py:19: PerformanceWarning: DataFrame is highly fragmented.  This is usually the result of calling `frame.insert` many times, which has poor performance.  Consider joining all columns at once using pd.concat(axis=1) instead. To get a de-fragmented frame, use `newframe = frame.copy()`\n",
      "  df[f'rstd{i}_{j}'] = df[j].rolling(i).std()\n",
      "/tmp/ipykernel_20724/3618790735.py:18: PerformanceWarning: DataFrame is highly fragmented.  This is usually the result of calling `frame.insert` many times, which has poor performance.  Consider joining all columns at once using pd.concat(axis=1) instead. To get a de-fragmented frame, use `newframe = frame.copy()`\n",
      "  df[f'rm{i}_{j}'] = df[j].rolling(i).mean()\n",
      "/tmp/ipykernel_20724/3618790735.py:19: PerformanceWarning: DataFrame is highly fragmented.  This is usually the result of calling `frame.insert` many times, which has poor performance.  Consider joining all columns at once using pd.concat(axis=1) instead. To get a de-fragmented frame, use `newframe = frame.copy()`\n",
      "  df[f'rstd{i}_{j}'] = df[j].rolling(i).std()\n",
      "/tmp/ipykernel_20724/3618790735.py:18: PerformanceWarning: DataFrame is highly fragmented.  This is usually the result of calling `frame.insert` many times, which has poor performance.  Consider joining all columns at once using pd.concat(axis=1) instead. To get a de-fragmented frame, use `newframe = frame.copy()`\n",
      "  df[f'rm{i}_{j}'] = df[j].rolling(i).mean()\n",
      "/tmp/ipykernel_20724/3618790735.py:19: PerformanceWarning: DataFrame is highly fragmented.  This is usually the result of calling `frame.insert` many times, which has poor performance.  Consider joining all columns at once using pd.concat(axis=1) instead. To get a de-fragmented frame, use `newframe = frame.copy()`\n",
      "  df[f'rstd{i}_{j}'] = df[j].rolling(i).std()\n",
      "/tmp/ipykernel_20724/3618790735.py:18: PerformanceWarning: DataFrame is highly fragmented.  This is usually the result of calling `frame.insert` many times, which has poor performance.  Consider joining all columns at once using pd.concat(axis=1) instead. To get a de-fragmented frame, use `newframe = frame.copy()`\n",
      "  df[f'rm{i}_{j}'] = df[j].rolling(i).mean()\n",
      "/tmp/ipykernel_20724/3618790735.py:19: PerformanceWarning: DataFrame is highly fragmented.  This is usually the result of calling `frame.insert` many times, which has poor performance.  Consider joining all columns at once using pd.concat(axis=1) instead. To get a de-fragmented frame, use `newframe = frame.copy()`\n",
      "  df[f'rstd{i}_{j}'] = df[j].rolling(i).std()\n",
      "/tmp/ipykernel_20724/3618790735.py:18: PerformanceWarning: DataFrame is highly fragmented.  This is usually the result of calling `frame.insert` many times, which has poor performance.  Consider joining all columns at once using pd.concat(axis=1) instead. To get a de-fragmented frame, use `newframe = frame.copy()`\n",
      "  df[f'rm{i}_{j}'] = df[j].rolling(i).mean()\n",
      "/tmp/ipykernel_20724/3618790735.py:19: PerformanceWarning: DataFrame is highly fragmented.  This is usually the result of calling `frame.insert` many times, which has poor performance.  Consider joining all columns at once using pd.concat(axis=1) instead. To get a de-fragmented frame, use `newframe = frame.copy()`\n",
      "  df[f'rstd{i}_{j}'] = df[j].rolling(i).std()\n",
      "/tmp/ipykernel_20724/3618790735.py:18: PerformanceWarning: DataFrame is highly fragmented.  This is usually the result of calling `frame.insert` many times, which has poor performance.  Consider joining all columns at once using pd.concat(axis=1) instead. To get a de-fragmented frame, use `newframe = frame.copy()`\n",
      "  df[f'rm{i}_{j}'] = df[j].rolling(i).mean()\n",
      "/tmp/ipykernel_20724/3618790735.py:19: PerformanceWarning: DataFrame is highly fragmented.  This is usually the result of calling `frame.insert` many times, which has poor performance.  Consider joining all columns at once using pd.concat(axis=1) instead. To get a de-fragmented frame, use `newframe = frame.copy()`\n",
      "  df[f'rstd{i}_{j}'] = df[j].rolling(i).std()\n",
      "/tmp/ipykernel_20724/3618790735.py:18: PerformanceWarning: DataFrame is highly fragmented.  This is usually the result of calling `frame.insert` many times, which has poor performance.  Consider joining all columns at once using pd.concat(axis=1) instead. To get a de-fragmented frame, use `newframe = frame.copy()`\n",
      "  df[f'rm{i}_{j}'] = df[j].rolling(i).mean()\n",
      "/tmp/ipykernel_20724/3618790735.py:19: PerformanceWarning: DataFrame is highly fragmented.  This is usually the result of calling `frame.insert` many times, which has poor performance.  Consider joining all columns at once using pd.concat(axis=1) instead. To get a de-fragmented frame, use `newframe = frame.copy()`\n",
      "  df[f'rstd{i}_{j}'] = df[j].rolling(i).std()\n",
      "/tmp/ipykernel_20724/3618790735.py:18: PerformanceWarning: DataFrame is highly fragmented.  This is usually the result of calling `frame.insert` many times, which has poor performance.  Consider joining all columns at once using pd.concat(axis=1) instead. To get a de-fragmented frame, use `newframe = frame.copy()`\n",
      "  df[f'rm{i}_{j}'] = df[j].rolling(i).mean()\n",
      "/tmp/ipykernel_20724/3618790735.py:19: PerformanceWarning: DataFrame is highly fragmented.  This is usually the result of calling `frame.insert` many times, which has poor performance.  Consider joining all columns at once using pd.concat(axis=1) instead. To get a de-fragmented frame, use `newframe = frame.copy()`\n",
      "  df[f'rstd{i}_{j}'] = df[j].rolling(i).std()\n"
     ]
    }
   ],
   "source": [
    "# feature genration\n",
    "for i in ['Open','High','Low','Close']:\n",
    "    for j in ['Open','High','Low','Close']:\n",
    "        df[f'{j}Wp{i}'] = round((df[j] - df[i].shift(1))/df[j]*100,2)\n",
    "\n",
    "df['CloseWcOpen'] = round((df['Open'] - df['Close'])/df['Open']*100,2)\n",
    "\n",
    "\n",
    "\n",
    "# for i in ['Close','Open']:\n",
    "#     for j in ['High','Low']:\n",
    "#         df[f'Abs{i}Wc{j}'] = round(abs(df[i] - df[j])/df[i]*100,2)\n",
    "\n",
    "cols = df.columns.tolist()\n",
    "\n",
    "for i in [3,5,9]:\n",
    "    for j in cols:\n",
    "        df[f'rm{i}_{j}'] = df[j].rolling(i).mean()\n",
    "        df[f'rstd{i}_{j}'] = df[j].rolling(i).std()\n",
    "        \n",
    "\n",
    "\n",
    "df.drop(['High','Open','Low','Close'],axis=1,inplace=True)\n",
    "df.dropna(inplace=True)\n",
    "\n",
    "        \n",
    "print(datetime.datetime.now(),' : Features generated and cleaned!')"
   ]
  },
  {
   "cell_type": "code",
   "execution_count": 182,
   "id": "1112ae01",
   "metadata": {},
   "outputs": [
    {
     "name": "stdout",
     "output_type": "stream",
     "text": [
      "2025-08-08 11:49:02.361663  : Train test split done\n"
     ]
    },
    {
     "name": "stderr",
     "output_type": "stream",
     "text": [
      "/tmp/ipykernel_20724/2264867336.py:2: PerformanceWarning: DataFrame is highly fragmented.  This is usually the result of calling `frame.insert` many times, which has poor performance.  Consider joining all columns at once using pd.concat(axis=1) instead. To get a de-fragmented frame, use `newframe = frame.copy()`\n",
      "  df['NxtCloseWpClose'] = df['CloseWpClose'].shift(-1)\n",
      "/tmp/ipykernel_20724/2264867336.py:3: PerformanceWarning: DataFrame is highly fragmented.  This is usually the result of calling `frame.insert` many times, which has poor performance.  Consider joining all columns at once using pd.concat(axis=1) instead. To get a de-fragmented frame, use `newframe = frame.copy()`\n",
      "  df['NxtOpenWpClose'] = df['OpenWpClose'].shift(-1)\n",
      "/tmp/ipykernel_20724/2264867336.py:4: PerformanceWarning: DataFrame is highly fragmented.  This is usually the result of calling `frame.insert` many times, which has poor performance.  Consider joining all columns at once using pd.concat(axis=1) instead. To get a de-fragmented frame, use `newframe = frame.copy()`\n",
      "  df['NxtOpenWpOpen'] = df['OpenWpOpen'].shift(-1)\n",
      "/tmp/ipykernel_20724/2264867336.py:5: PerformanceWarning: DataFrame is highly fragmented.  This is usually the result of calling `frame.insert` many times, which has poor performance.  Consider joining all columns at once using pd.concat(axis=1) instead. To get a de-fragmented frame, use `newframe = frame.copy()`\n",
      "  df['NxtOpenWpHigh'] = df['OpenWpHigh'].shift(-1)\n",
      "/tmp/ipykernel_20724/2264867336.py:6: PerformanceWarning: DataFrame is highly fragmented.  This is usually the result of calling `frame.insert` many times, which has poor performance.  Consider joining all columns at once using pd.concat(axis=1) instead. To get a de-fragmented frame, use `newframe = frame.copy()`\n",
      "  df['NxtOpenWpLow'] = df['OpenWpLow'].shift(-1)\n"
     ]
    }
   ],
   "source": [
    "# Train test split\n",
    "df['NxtCloseWpClose'] = df['CloseWpClose'].shift(-1)\n",
    "df['NxtOpenWpClose'] = df['OpenWpClose'].shift(-1)\n",
    "df['NxtOpenWpOpen'] = df['OpenWpOpen'].shift(-1)\n",
    "df['NxtOpenWpHigh'] = df['OpenWpHigh'].shift(-1)\n",
    "df['NxtOpenWpLow'] = df['OpenWpLow'].shift(-1)  \n",
    "\n",
    "X_train, X_test, y_train, y_test = train_test_split(df.drop('NxtCloseWpClose',axis=1),\n",
    "                                                    df['NxtCloseWpClose'],\n",
    "                                                    test_size=0.2,\n",
    "                                                    shuffle=False)\n",
    "\n",
    "\n",
    "X_test = X_test.iloc[:-1]\n",
    "y_test = y_test.iloc[:-1]\n",
    "\n",
    "\n",
    "print(datetime.datetime.now(),' : Train test split done')\n"
   ]
  },
  {
   "cell_type": "code",
   "execution_count": 183,
   "id": "af371859",
   "metadata": {},
   "outputs": [
    {
     "name": "stdout",
     "output_type": "stream",
     "text": [
      "2025-08-08 11:49:02.366089  : XG Booster regression model initiated with default parameters\n"
     ]
    }
   ],
   "source": [
    "# Model initiated\n",
    "model = XGBRegressor()\n",
    "print(datetime.datetime.now(),' : XG Booster regression model initiated with default parameters')\n"
   ]
  },
  {
   "cell_type": "code",
   "execution_count": 184,
   "id": "88b78c2a",
   "metadata": {},
   "outputs": [
    {
     "name": "stdout",
     "output_type": "stream",
     "text": [
      "2025-08-08 11:49:03.479446  : Model fitted!\n"
     ]
    }
   ],
   "source": [
    "# Model fitting\n",
    "model.fit(X_train,y_train)\n",
    "print(datetime.datetime.now(),' : Model fitted!')\n"
   ]
  },
  {
   "cell_type": "code",
   "execution_count": 185,
   "id": "32f1f73f",
   "metadata": {},
   "outputs": [
    {
     "name": "stdout",
     "output_type": "stream",
     "text": [
      "2025-08-08 11:49:03.493673  : Predictions made for test set!\n"
     ]
    }
   ],
   "source": [
    "# Prediction for test set\n",
    "y_pred = pd.Series(model.predict(X_test),index=X_test.index)\n",
    "print(datetime.datetime.now(),' : Predictions made for test set!')\n"
   ]
  },
  {
   "cell_type": "code",
   "execution_count": 186,
   "id": "ed8ace3e",
   "metadata": {},
   "outputs": [
    {
     "name": "stdout",
     "output_type": "stream",
     "text": [
      "2025-08-08 11:49:03.500434  : Root mean squared error calculated!\n"
     ]
    }
   ],
   "source": [
    "# Rmse calculation\n",
    "rmse = root_mean_squared_error(y_test,y_pred)\n",
    "print(datetime.datetime.now(),' : Root mean squared error calculated!')"
   ]
  },
  {
   "cell_type": "code",
   "execution_count": 187,
   "id": "764c3a8a",
   "metadata": {},
   "outputs": [
    {
     "name": "stdout",
     "output_type": "stream",
     "text": [
      "Root Mean Squared Error :\n",
      "For given test data\n",
      "on an average\n",
      "predicted value falls within +/- 0.77 % range of actual index price\n"
     ]
    }
   ],
   "source": [
    "# Rmse display\n",
    "print(\"Root Mean Squared Error :\")\n",
    "print(\"For given test data\")\n",
    "print(\"on an average\")\n",
    "print(f\"predicted value falls within +/- {rmse:.2f} % range of actual index price\")"
   ]
  },
  {
   "cell_type": "code",
   "execution_count": 188,
   "id": "1c485560",
   "metadata": {},
   "outputs": [
    {
     "name": "stdout",
     "output_type": "stream",
     "text": [
      "2025-08-08 11:49:03.510481  : Prediction done!\n"
     ]
    }
   ],
   "source": [
    "# Prediction on given date \n",
    "result = y_pred.iloc[-1:]\n",
    "result = float(result.values[0])\n",
    "print(datetime.datetime.now(),' : Prediction done!')"
   ]
  },
  {
   "cell_type": "code",
   "execution_count": 189,
   "id": "8c70f18e",
   "metadata": {},
   "outputs": [
    {
     "data": {
      "image/png": "[encoded data removed]",
      "text/plain": [
       "<Figure size 1000x500 with 1 Axes>"
      ]
     },
     "metadata": {},
     "output_type": "display_data"
    },
    {
     "name": "stdout",
     "output_type": "stream",
     "text": [
      "2025-08-08 11:49:03.624865  : latest 25 predicted and corresponding actual avlues plotted! \n"
     ]
    }
   ],
   "source": [
    "# Prediction for last n values\n",
    "n = 25\n",
    "pred_table = pd.DataFrame({'Actual':y_test,'Predicted':y_pred})\n",
    "pred_table.reset_index(inplace=True)\n",
    "data = pred_table.reset_index()[:n]\n",
    "plt.figure(figsize=(10,5))\n",
    "sns.scatterplot(x=data.index,y=data['Actual'],color='green',label='Actual')\n",
    "sns.scatterplot(x=data.index,y=data['Predicted'],color='orange',label='Predicted')\n",
    "y_min = []\n",
    "y_max = []\n",
    "for i in range(len(data)):\n",
    "    y_min.append(min(data['Actual'][i],data['Predicted'][i]))\n",
    "    y_max.append(max(data['Actual'][i],data['Predicted'][i]))\n",
    "plt.fill_between(data.index,y_min,y_max,alpha=0.2,color='blue',label='Min-Max Range')\n",
    "plt.legend()\n",
    "plt.title('Actual vs Predicted')\n",
    "plt.xlabel('Index')\n",
    "plt.ylabel('Percentage Change')\n",
    "plt.show()\n",
    "print(datetime.datetime.now(),f' : latest {n} predicted and corresponding actual avlues plotted! ')"
   ]
  },
  {
   "cell_type": "code",
   "execution_count": 190,
   "id": "6c199aaf",
   "metadata": {},
   "outputs": [
    {
     "name": "stdout",
     "output_type": "stream",
     "text": [
      "2025-08-08 11:49:03.632542  : Prediction table for test data created!\n"
     ]
    }
   ],
   "source": [
    "# Prediction table for test data \n",
    "\n",
    "pred_table = pd.DataFrame()\n",
    "pred_table['Actual']= y_test\n",
    "pred_table['Predicted'] = y_pred\n",
    "pred_table['Error'] = abs(pred_table['Actual'] - pred_table['Predicted'])\n",
    "pred_table['Within_rmse_range'] = pred_table['Error'] <= rmse\n",
    "print(datetime.datetime.now(),' : Prediction table for test data created!') \n",
    "result_probability = float(pred_table['Within_rmse_range'].value_counts(normalize=True).loc[:'True'].values[0])"
   ]
  },
  {
   "cell_type": "code",
   "execution_count": null,
   "id": "49670a0f",
   "metadata": {},
   "outputs": [
    {
     "name": "stdout",
     "output_type": "stream",
     "text": [
      "**Result**\n",
      "On 2025-08-08\n",
      "Change in close w.r.t. prev close is likely to be in the range of -1.55 % to -0.01 %\n",
      "with probability of 0.75 %\n"
     ]
    }
   ],
   "source": [
    "# Result Display\n",
    "print(\"**Result**\")\n",
    "lower_value = result - rmse\n",
    "upper_value = result + rmse\n",
    "print(f\"On {prediction_date}\")\n",
    "print(f\"Change in close w.r.t. prev close is likely to be in the range of {lower_value:.2f} % to {upper_value:.2f} %\")\n",
    "print(f\"with probability of {result_probability:.2f} %\")\n"
   ]
  },
  {
   "cell_type": "code",
   "execution_count": null,
   "id": "6ba2cd76",
   "metadata": {},
   "outputs": [
    {
     "name": "stdout",
     "output_type": "stream",
     "text": [
      "Prediction_range = Change in close w.r.t. previous close in %\n"
     ]
    },
    {
     "data": {
      "text/html": [
       "<div>\n",
       "<style scoped>\n",
       "    .dataframe tbody tr th:only-of-type {\n",
       "        vertical-align: middle;\n",
       "    }\n",
       "\n",
       "    .dataframe tbody tr th {\n",
       "        vertical-align: top;\n",
       "    }\n",
       "\n",
       "    .dataframe thead th {\n",
       "        text-align: right;\n",
       "    }\n",
       "</style>\n",
       "<table border=\"1\" class=\"dataframe\">\n",
       "  <thead>\n",
       "    <tr style=\"text-align: right;\">\n",
       "      <th></th>\n",
       "      <th>Probability</th>\n",
       "      <th>Prediction_range</th>\n",
       "    </tr>\n",
       "  </thead>\n",
       "  <tbody>\n",
       "    <tr>\n",
       "      <th>0</th>\n",
       "      <td>1</td>\n",
       "      <td>(-0.79, -0.77)</td>\n",
       "    </tr>\n",
       "    <tr>\n",
       "      <th>1</th>\n",
       "      <td>2</td>\n",
       "      <td>(-0.8, -0.76)</td>\n",
       "    </tr>\n",
       "    <tr>\n",
       "      <th>2</th>\n",
       "      <td>3</td>\n",
       "      <td>(-0.8, -0.75)</td>\n",
       "    </tr>\n",
       "    <tr>\n",
       "      <th>3</th>\n",
       "      <td>4</td>\n",
       "      <td>(-0.81, -0.74)</td>\n",
       "    </tr>\n",
       "    <tr>\n",
       "      <th>4</th>\n",
       "      <td>5</td>\n",
       "      <td>(-0.82, -0.73)</td>\n",
       "    </tr>\n",
       "    <tr>\n",
       "      <th>...</th>\n",
       "      <td>...</td>\n",
       "      <td>...</td>\n",
       "    </tr>\n",
       "    <tr>\n",
       "      <th>95</th>\n",
       "      <td>96</td>\n",
       "      <td>(-2.34, 0.78)</td>\n",
       "    </tr>\n",
       "    <tr>\n",
       "      <th>96</th>\n",
       "      <td>97</td>\n",
       "      <td>(-2.49, 0.94)</td>\n",
       "    </tr>\n",
       "    <tr>\n",
       "      <th>97</th>\n",
       "      <td>98</td>\n",
       "      <td>(-2.71, 1.15)</td>\n",
       "    </tr>\n",
       "    <tr>\n",
       "      <th>98</th>\n",
       "      <td>99</td>\n",
       "      <td>(-3.11, 1.55)</td>\n",
       "    </tr>\n",
       "    <tr>\n",
       "      <th>99</th>\n",
       "      <td>100</td>\n",
       "      <td>(-6.48, 4.92)</td>\n",
       "    </tr>\n",
       "  </tbody>\n",
       "</table>\n",
       "<p>100 rows × 2 columns</p>\n",
       "</div>"
      ],
      "text/plain": [
       "    Probability Prediction_range\n",
       "0             1   (-0.79, -0.77)\n",
       "1             2    (-0.8, -0.76)\n",
       "2             3    (-0.8, -0.75)\n",
       "3             4   (-0.81, -0.74)\n",
       "4             5   (-0.82, -0.73)\n",
       "..          ...              ...\n",
       "95           96    (-2.34, 0.78)\n",
       "96           97    (-2.49, 0.94)\n",
       "97           98    (-2.71, 1.15)\n",
       "98           99    (-3.11, 1.55)\n",
       "99          100    (-6.48, 4.92)\n",
       "\n",
       "[100 rows x 2 columns]"
      ]
     },
     "execution_count": 196,
     "metadata": {},
     "output_type": "execute_result"
    }
   ],
   "source": [
    "# range prediction with probability\n",
    "p = []\n",
    "v = []\n",
    "for i in range(1,101):\n",
    "    e = np.percentile(pred_table['Error'],i)\n",
    "    p.append(i)\n",
    "    lv = round((result - e  ),2)   \n",
    "    uv = round((result + e),2)\n",
    "    v.append((lv,uv))\n",
    "\n",
    "prob_val_table = pd.DataFrame({'Probability':p,\n",
    "                               'Prediction_range':v})\n",
    "\n",
    "print(\"Prediction_range = Change in close w.r.t. previous close in %\")                          \n",
    "prob_val_table\n"
   ]
  },
  {
   "cell_type": "code",
   "execution_count": null,
   "id": "1de57485",
   "metadata": {},
   "outputs": [
    {
     "name": "stdout",
     "output_type": "stream",
     "text": [
      "Within_rmse_range\n",
      "True     0.746479\n",
      "False    0.253521\n",
      "Name: proportion, dtype: float64\n",
      "\n",
      "Interpretation:\n",
      "74.65 % of time range predicted was correct!\n"
     ]
    },
    {
     "data": {
      "image/png": "[encoded data removed]",
      "text/plain": [
       "<Figure size 640x480 with 1 Axes>"
      ]
     },
     "metadata": {},
     "output_type": "display_data"
    }
   ],
   "source": [
    "# Accuracy plot\n",
    "pred_table['Within_rmse_range'].\\\n",
    "value_counts(normalize=True).\\\n",
    "plot(kind='bar',\n",
    "     title='Accuracy of range predictions for test data')\n",
    "print(pred_table['Within_rmse_range'].value_counts(normalize=True))\n",
    "print(\"\\nInterpretation:\")\n",
    "print(f\"{result_probability*100:.2f} % of the time range predicted was correct!\")"
   ]
  }
 ],
 "metadata": {
  "kernelspec": {
   "display_name": "venv (3.12.3)",
   "language": "python",
   "name": "python3"
  },
  "language_info": {
   "codemirror_mode": {
    "name": "ipython",
    "version": 3
   },
   "file_extension": ".py",
   "mimetype": "text/x-python",
   "name": "python",
   "nbconvert_exporter": "python",
   "pygments_lexer": "ipython3",
   "version": "3.12.3"
  }
 },
 "nbformat": 4,
 "nbformat_minor": 5
}
