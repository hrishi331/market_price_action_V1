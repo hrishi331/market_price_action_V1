{
 "cells": [
  {
   "cell_type": "code",
   "execution_count": 125,
   "id": "8b252a6e",
   "metadata": {},
   "outputs": [],
   "source": [
    "# Import packages\n",
    "import pandas as pd\n",
    "import matplotlib.pyplot as plt\n",
    "import seaborn as sns\n",
    "import numpy as np\n",
    "import yfinance as yf\n",
    "import nsepython as nse\n",
    "import datetime \n",
    "import time\n",
    "from sklearn.model_selection import train_test_split\n",
    "from xgboost import XGBRegressor\n",
    "from sklearn.metrics import root_mean_squared_error\n",
    "\n"
   ]
  },
  {
   "cell_type": "code",
   "execution_count": 126,
   "id": "6169b29f",
   "metadata": {},
   "outputs": [
    {
     "name": "stdout",
     "output_type": "stream",
     "text": [
      "2025-08-06 14:03:36.781664  : Date inputs taken!\n"
     ]
    }
   ],
   "source": [
    "# Inputs\n",
    "# Date input\n",
    "from_date = datetime.date(year=2015,month=1,day=1).strftime(\"%Y-%m-%d\")\n",
    "to_date = datetime.date(year=2025,month=8,day=6).strftime(\"%Y-%m-%d\")\n",
    "print(datetime.datetime.now(),' : Date inputs taken!')\n"
   ]
  },
  {
   "cell_type": "code",
   "execution_count": 127,
   "id": "eeb045a2",
   "metadata": {},
   "outputs": [
    {
     "name": "stderr",
     "output_type": "stream",
     "text": [
      "/tmp/ipykernel_26991/3552187783.py:1: FutureWarning: YF.download() has changed argument auto_adjust default to True\n",
      "  df = yf.download('^NSEI',start=from_date,end=to_date)\n",
      "[*********************100%***********************]  1 of 1 completed"
     ]
    },
    {
     "name": "stdout",
     "output_type": "stream",
     "text": [
      "2025-08-06 14:03:36.816269  : Data loaded and featured configured!\n"
     ]
    },
    {
     "name": "stderr",
     "output_type": "stream",
     "text": [
      "\n"
     ]
    }
   ],
   "source": [
    "df = yf.download('^NSEI',start=from_date,end=to_date)\n",
    "df.columns = ['CLOSE','HIGH','LOW','OPEN','VOLUME']\n",
    "df.drop('VOLUME',axis=1,inplace=True)\n",
    "df['Date'] = df.index\n",
    "print(datetime.datetime.now(),' : Data loaded and featured configured!')\n"
   ]
  },
  {
   "cell_type": "code",
   "execution_count": null,
   "id": "b6b45043",
   "metadata": {},
   "outputs": [
    {
     "name": "stdout",
     "output_type": "stream",
     "text": [
      "2025-08-06 14:03:38.472373  : Additional features generated!\n"
     ]
    }
   ],
   "source": [
    "# Additional feature generation \n",
    "for k in [5,30]:\n",
    "    for j in ['OPEN','HIGH','LOW','CLOSE']:\n",
    "        minl = []\n",
    "        maxl = []\n",
    "        for i in range(df.shape[0]):\n",
    "            minimum = df[j].iloc[i:i+k].min()\n",
    "            maximum = df[j].iloc[i:i+k].max()\n",
    "            minl.append(minimum)\n",
    "            maxl.append(maximum)\n",
    "        df[f'{j}_{k}daylow'] = minl\n",
    "        df[f'{j}_{k}dayhigh'] = maxl\n",
    "\n",
    "df['CLOSE'] = df['CLOSE'].shift(-1)\n",
    "df['NXT_OPEN'] = df['OPEN'].shift(-1)\n",
    "print(datetime.datetime.now(),' : Additional features generated!')"
   ]
  },
  {
   "cell_type": "code",
   "execution_count": 129,
   "id": "f1805eb8",
   "metadata": {},
   "outputs": [
    {
     "name": "stdout",
     "output_type": "stream",
     "text": [
      "2025-08-06 14:03:38.478331  : date feature dropped!\n"
     ]
    }
   ],
   "source": [
    "# Date feature dropped\n",
    "df = df.drop('Date',axis=1)\n",
    "print(datetime.datetime.now(),' : date feature dropped!')  \n"
   ]
  },
  {
   "cell_type": "code",
   "execution_count": null,
   "id": "1f16f4e5",
   "metadata": {},
   "outputs": [
    {
     "name": "stderr",
     "output_type": "stream",
     "text": [
      "/tmp/ipykernel_26991/516314891.py:6: FutureWarning: Setting an item of incompatible dtype is deprecated and will raise in a future error of pandas. Value '24641' has dtype incompatible with float64, please explicitly cast to a compatible dtype first.\n",
      "  X_sample.iloc[:,-1] = Today_open\n"
     ]
    }
   ],
   "source": [
    "# Generate X_sample for prediction\n",
    "X_sample = df.iloc[-1:,1:]\n",
    "Today_open = input(f\"Input opening price on {to_date} : \")\n",
    "X_sample.iloc[:,-1] = Today_open\n",
    "\n",
    "df.dropna(inplace=True)\n",
    "print(datetime.datetime.now(),' : X_sample generated!')  "
   ]
  },
  {
   "cell_type": "code",
   "execution_count": 131,
   "id": "059e213e",
   "metadata": {},
   "outputs": [
    {
     "name": "stdout",
     "output_type": "stream",
     "text": [
      "2025-08-06 14:03:53.071824  : Train/test data generated!\n"
     ]
    }
   ],
   "source": [
    "# train test data generation\n",
    "X_train,X_test,y_train,y_test = train_test_split(df.drop('CLOSE',axis=1),df['CLOSE'],\n",
    "                                                 test_size=0.2,random_state=11)\n",
    "print(datetime.datetime.now(),' : Train/test data generated!')  \n"
   ]
  },
  {
   "cell_type": "code",
   "execution_count": 132,
   "id": "93a42d85",
   "metadata": {},
   "outputs": [
    {
     "name": "stdout",
     "output_type": "stream",
     "text": [
      "2025-08-06 14:03:53.076849  : XGBoost model intialised!\n"
     ]
    }
   ],
   "source": [
    "# Modeling\n",
    "model = XGBRegressor()\n",
    "print(datetime.datetime.now(),' : XGBoost model intialised!')  \n"
   ]
  },
  {
   "cell_type": "code",
   "execution_count": 133,
   "id": "5b98b88e",
   "metadata": {},
   "outputs": [
    {
     "name": "stdout",
     "output_type": "stream",
     "text": [
      "2025-08-06 14:03:53.361768  : Model fitted on train data!\n"
     ]
    }
   ],
   "source": [
    "# Model fitting\n",
    "model.fit(X_train,y_train)\n",
    "print(datetime.datetime.now(),' : Model fitted on train data!')  \n"
   ]
  },
  {
   "cell_type": "code",
   "execution_count": 134,
   "id": "4e7b9cd0",
   "metadata": {},
   "outputs": [
    {
     "name": "stdout",
     "output_type": "stream",
     "text": [
      "2025-08-06 14:03:53.370267  : Predictions done for test data!\n"
     ]
    }
   ],
   "source": [
    "# Prediction\n",
    "y_pred = model.predict(X_test)\n",
    "print(datetime.datetime.now(),' : Predictions done for test data!') \n"
   ]
  },
  {
   "cell_type": "code",
   "execution_count": 135,
   "id": "3b6c30a6",
   "metadata": {},
   "outputs": [
    {
     "name": "stdout",
     "output_type": "stream",
     "text": [
      "2025-08-06 14:03:53.378606  : RMSE performance metric calculated!\n"
     ]
    }
   ],
   "source": [
    "# RMSE calculation\n",
    "rmse = root_mean_squared_error(y_test,y_pred)\n",
    "print(datetime.datetime.now(),' : RMSE performance metric calculated!') \n"
   ]
  },
  {
   "cell_type": "code",
   "execution_count": 136,
   "id": "94eaf089",
   "metadata": {},
   "outputs": [
    {
     "name": "stdout",
     "output_type": "stream",
     "text": [
      "2025-08-06 14:03:53.385413  : Prediction table generated!\n",
      "                  Actual     Predicted    ABSError\n",
      "Date                                              \n",
      "2021-02-03  14895.650391  14821.229492   74.420898\n",
      "2015-03-09   8712.049805   8674.476562   37.573242\n",
      "2019-03-06  11058.200195  11173.227539  115.027344\n",
      "2015-02-11   8711.549805   8650.059570   61.490234\n",
      "2020-10-16  11873.049805  11860.406250   12.643555\n",
      "...                  ...           ...         ...\n",
      "2015-07-14   8523.799805   8562.703125   38.903320\n",
      "2022-10-04  17331.800781  17247.236328   84.564453\n",
      "2017-10-27  10363.650391  10372.416016    8.765625\n",
      "2020-07-31  10891.599609  11019.770508  128.170898\n",
      "2016-12-09   8170.799805   8216.548828   45.749023\n",
      "\n",
      "[522 rows x 3 columns]\n"
     ]
    }
   ],
   "source": [
    "# Prediction table for test data\n",
    "pred_table = pd.DataFrame()\n",
    "pred_table['Actual'] = y_test\n",
    "pred_table['Predicted'] = y_pred\n",
    "pred_table['ABSError'] = abs(pred_table['Actual']-pred_table['Predicted'])\n",
    "print(datetime.datetime.now(),' : Prediction table generated!') \n",
    "\n",
    "\n",
    "\n",
    "print(pred_table)"
   ]
  },
  {
   "cell_type": "code",
   "execution_count": 137,
   "id": "894aca2a",
   "metadata": {},
   "outputs": [
    {
     "name": "stdout",
     "output_type": "stream",
     "text": [
      "On an average predictions are off by +/- 92 points\n"
     ]
    }
   ],
   "source": [
    "avg_error = pred_table['ABSError'].mean()\n",
    "print(f'On an average predictions are off by +/- {int(avg_error)} points')"
   ]
  },
  {
   "cell_type": "code",
   "execution_count": 138,
   "id": "e365a5b5",
   "metadata": {},
   "outputs": [
    {
     "data": {
      "text/plain": [
       "array([24532.549], dtype=float32)"
      ]
     },
     "execution_count": 138,
     "metadata": {},
     "output_type": "execute_result"
    }
   ],
   "source": [
    "model.predict(np.array(X_sample))"
   ]
  },
  {
   "cell_type": "code",
   "execution_count": 139,
   "id": "cfe0270f",
   "metadata": {},
   "outputs": [
    {
     "ename": "SyntaxError",
     "evalue": "invalid syntax (3627563391.py, line 1)",
     "output_type": "error",
     "traceback": [
      "  \u001b[36mCell\u001b[39m\u001b[36m \u001b[39m\u001b[32mIn[139]\u001b[39m\u001b[32m, line 1\u001b[39m\n\u001b[31m    \u001b[39m\u001b[31mnp.array(X_sample)model.feature_names_in_\u001b[39m\n                      ^\n\u001b[31mSyntaxError\u001b[39m\u001b[31m:\u001b[39m invalid syntax\n"
     ]
    }
   ],
   "source": [
    "np.array(X_sample)model.feature_names_in_\n"
   ]
  }
 ],
 "metadata": {
  "kernelspec": {
   "display_name": "venv (3.12.3)",
   "language": "python",
   "name": "python3"
  },
  "language_info": {
   "codemirror_mode": {
    "name": "ipython",
    "version": 3
   },
   "file_extension": ".py",
   "mimetype": "text/x-python",
   "name": "python",
   "nbconvert_exporter": "python",
   "pygments_lexer": "ipython3",
   "version": "3.12.3"
  }
 },
 "nbformat": 4,
 "nbformat_minor": 5
}
